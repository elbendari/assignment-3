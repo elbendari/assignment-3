{
 "cells": [
  {
   "cell_type": "code",
   "execution_count": 15,
   "metadata": {},
   "outputs": [
    {
     "name": "stdout",
     "output_type": "stream",
     "text": [
      "hello world\n",
      "hello world\n",
      "hello world\n",
      "hello world\n",
      "hello world\n"
     ]
    }
   ],
   "source": [
    "##1- Open a file, name it 'test.txt' and write 'hello world' for 5 times in it then close it. \n",
    "myfile = open('tst.txt', 'a+')\n",
    "for i in range(5):\n",
    "    print('hello world')\n",
    "\n",
    "myfile.close()\n",
    "\n"
   ]
  },
  {
   "cell_type": "code",
   "execution_count": 53,
   "metadata": {},
   "outputs": [
    {
     "data": {
      "text/plain": [
       "[\"'HELLO WORLD'\\n\",\n",
       " \"'HELLO WORLD'\\n\",\n",
       " \"'HELLO WORLD'\\n\",\n",
       " \"'HELLO WORLD'\\n\",\n",
       " \"'HELLO WORLD'\"]"
      ]
     },
     "execution_count": 53,
     "metadata": {},
     "output_type": "execute_result"
    }
   ],
   "source": [
    "##2- Read the contents of the file, then make content in uppercase then write the result again to the file.\n",
    "myfile = open('tst.txt', 'a+')\n",
    "myfile.seek(0)\n",
    "mylines =(myfile.readlines())\n",
    "for i in range(len(mylines)):\n",
    "    mylines[i]= mylines[i].upper()\n",
    "    \n",
    "\n",
    "myfile.close()\n",
    "mylines\n",
    "\n",
    "\n"
   ]
  },
  {
   "cell_type": "code",
   "execution_count": 60,
   "metadata": {},
   "outputs": [
    {
     "data": {
      "text/plain": [
       "\"'HELLO WORLD'\\n\""
      ]
     },
     "execution_count": 60,
     "metadata": {},
     "output_type": "execute_result"
    }
   ],
   "source": [
    "## 3- Read the third line of the file then update it to its capital case using capitalize.\n",
    "myfile = open('tst.txt', 'a+')\n",
    "myfile.seek(0)\n",
    "mylines = myfile.readlines()\n",
    "mylines\n",
    "mylines[2].upper()\n",
    "\n",
    "\n"
   ]
  },
  {
   "cell_type": "code",
   "execution_count": 66,
   "metadata": {},
   "outputs": [
    {
     "name": "stdout",
     "output_type": "stream",
     "text": [
      "[\"'hello world'\\n\", \"'hello world'\\n\", \"'hello world'\\n\", \"'hello world'\\n\", \"'hello world'I Love python\\n\", 'I Love python/nI Love pythonI Love python']\n"
     ]
    }
   ],
   "source": [
    "##4- Using With Statement open this file and append 'I Love python' to it.\n",
    "with open(\"tst.txt\", 'a+') as myfile:\n",
    "    myfile.seek(0)\n",
    "    print(myfile.readlines())\n",
    "    myfile.write('I Love python')\n",
    "    myfile.seek(0)\n",
    "    myfile"
   ]
  },
  {
   "cell_type": "code",
   "execution_count": null,
   "metadata": {},
   "outputs": [],
   "source": []
  }
 ],
 "metadata": {
  "kernelspec": {
   "display_name": "Python 3",
   "language": "python",
   "name": "python3"
  },
  "language_info": {
   "codemirror_mode": {
    "name": "ipython",
    "version": 3
   },
   "file_extension": ".py",
   "mimetype": "text/x-python",
   "name": "python",
   "nbconvert_exporter": "python",
   "pygments_lexer": "ipython3",
   "version": "3.7.6"
  }
 },
 "nbformat": 4,
 "nbformat_minor": 4
}
